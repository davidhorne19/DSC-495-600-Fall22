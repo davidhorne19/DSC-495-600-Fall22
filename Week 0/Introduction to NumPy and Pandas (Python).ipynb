{
 "cells": [
  {
   "cell_type": "markdown",
   "metadata": {
    "colab_type": "text",
    "id": "hB1it68DDaM9"
   },
   "source": [
    "[Introduction to NumPy and Pandas (Python)](#Introduction-to-NumPy-and-Pandas-(Python))   \n",
    "1. [What is Python?](What-is-Python?)   \n",
    "2. [Why Python?](Why-Python?)    \n",
    "3. [Set up your local environment](Set-up-your-local-environment)    \n",
    "    a. [Install Python 3](Install-Python-3)    \n",
    "    b. [Install modules](Install-modules)   \n",
    "\n",
    "\n",
    "\n",
    "# Introduction to NumPy and Pandas (Python)\n",
    "\n"
   ]
  },
  {
   "cell_type": "markdown",
   "metadata": {
    "colab_type": "text",
    "id": "KQSLVCwlDaNA"
   },
   "source": [
    "## What is Python?\n",
    "\n",
    "Python is one of many programming languages. It's popular in part because of its clear, English-like syntax and because of the enormous ecosystem of open source Python tools for almost any aspect of scientific computing.    \n",
    "\n",
    "Guido Van Rossum, a Dutch programmer, originally conceived Python in the late 1980's and released version 1.0 in 1994.\n",
    "It is usually used for:       \n",
    "\n",
    " * web development (server-side),   \n",
    " * software development,   \n",
    " * mathematics,   \n",
    " * system scripting.    \n",
    "\n",
    "\n",
    "In order to write Python code you'll want a text editor, and to run it you'll need a Python environment. We'll get you up and running with both of these on your local machine later on.    \n",
    "\n",
    "\n",
    "## Why Python?\n",
    "\n",
    " * Python works on different platforms (Windows, Mac, Linux, etc).\n",
    " * Python has a simple syntax similar to the English language.\n",
    " * Python has syntax that allows developers to write programs with fewer lines than some other programming languages.\n",
    " * Python runs on an interpreter system, meaning that code can be executed as soon as it is written. This means that prototyping can be very quick.\n",
    " * Python can be treated in a procedural way, an object-orientated way or a functional way.  \n",
    " \n",
    "\n",
    "Python was designed to for readability, and has some similarities to the English language with influence from mathematics.   \n",
    "\n",
    " * Python uses new lines to complete a command, as opposed to other programming languages which often use semicolons or parentheses.\n",
    " * Python relies on indentation, using whitespace, to define scope; such as the scope of loops, functions and classes. Other programming languages often use curly-brackets for this purpose.\n",
    "\n",
    "Many PCs and Macs will have python already installed.    \n",
    "\n",
    "To check if you have python installed on a Windows PC, search in the start bar for Python or run the following on the Command Line (cmd.exe):       \n",
    "\n",
    "`C:\\Users\\Your Name>python --version`\n",
    "<img src=\"CPythonPC.png\"> \n",
    "\n",
    "To check if you have python installed on a Linux or Mac, then on linux open the command line or on Mac open the Terminal and type:      \n",
    "\n",
    " `python --version`\n",
    "<img src=\"CPythonMAC1.png\">\n",
    "\n",
    "\n",
    "\n",
    "## Set up your local environment. \n",
    "\n",
    "### Install Python 3\n",
    "\n",
    "__1st Method__ \n",
    "\n",
    "If you find that you do not have python installed on your computer, then you can download it for free from the following [website](https://www.python.org/) \n",
    "\n",
    "__2nd Method__\n",
    "\n",
    "0. Install a modern standard-compliant browser. Either Mozilla Firefox or Google Chrome will work well. Try to avoid MS Explorer.\n",
    "\n",
    "1. Install Anaconda:\n",
    "      * Download [Anaconda Distribution](https://www.anaconda.com/distribution/)(a few 100MB), Python 3, 64 bits.\n",
    "      * Install it using the default settings for a single user.\n",
    "      \n",
    "\n",
    "Official docs:Installation: [If you are new to Python and Jupyter](https://jupyter.readthedocs.io/en/latest/install.html#new-to-python-and-jupyter).\n",
    "\n",
    "\n",
    "\n",
    "### Install modules   \n",
    "\n",
    "When you installed Python 3 you also got pip, the package manager for Python, for free.   \n",
    "\n",
    "These instructions should work across Mac, Windows, and Linux platforms.    \n",
    "\n",
    "Let's confirm your install:   \n",
    "\n",
    "<div class=\"alert alert-success\"> $ pip --version</div> \n",
    "\n",
    "\n",
    "If that gave you an error you don't have pip installed. Your path and versions may look slightly different. The important thing is that your Python version is at least 3.5. If instead that shows Python 2 then you may have the Python 3 version on your system as pip3.       \n",
    "\n",
    "Try:   \n",
    "\n",
    " \n",
    "<div class=\"alert alert-success\"> $ pip3 --version</div>  \n",
    "\n",
    "\n",
    "If that worked then replace all the examples of pip with pip3 in the coming material.\n",
    "\n",
    "Before moving on make sure you have the most recent version of pip by running:\n",
    "\n",
    "<div class=\"alert alert-success\"> $ python -m pip install -U pip </div>\n",
    "\n",
    "__NumPy__      \n",
    "\n",
    "NumPy is the fundamental scientific computing package. Most other Python data science tools are built on top of NumPy and treat it as a dependency. You should be able to install NumPy with:\n",
    "\n",
    "\n",
    "<div class=\"alert alert-success\"> $ python -m pip install numpy</div> \n",
    "\n",
    "Run  <span style=\"background-color: #D8D8D8\">pip freeze</span> to confirm your install.\n",
    "\n",
    "\n",
    "__Matplotlib__ \n",
    "\n",
    "Matplotlib is the 2D plotting library you'll use to produce many of your visualizations. You'll use it both for data exploration and for presentation.\n",
    "\n",
    "<div class=\"alert alert-success\">python -m pip install matplotlib</div>\n",
    "\n",
    "Run <span style=\"background-color: #D8D8D8\">pip freeze</span>  to confirm your install.\n",
    "\n",
    "__SciPy__   \n",
    "\n",
    "SciPy adds algorithms, convenience functions, and is the basis for many other packages you'll install in the future.\n",
    "\n",
    "<div class=\"alert alert-success\">python -m pip install scipy</div> \n",
    "\n",
    "Run <span style=\"background-color: #D8D8D8\">pip freeze</span> to confirm your install.\n",
    "\n",
    "\n",
    "__Install Jupyter Notebooks__    \n",
    "\n",
    "Jupyter notebooks allow you to write, execute, and visualize Python interactively. You'll use Jupyter notebooks as your primary IDE for writing Python.\n",
    "\n",
    "<div class=\"alert alert-success\">python -m pip install jupyter</div> \n",
    "\n",
    "Run <span style=\"background-color: #D8D8D8\"> pip freeze</span> to confirm your install.\n",
    "\n",
    "\n",
    "To use Jupyter notebooks,from your command line run    \n",
    "\n",
    "<div class=\"alert alert-success\"> $ jupyter notebook </div>\n",
    "    \n",
    "\n",
    "This will start the Jupyter server and open a browser tab that hits the server. You can kill the server by closing the terminal window it's running in or with\n",
    "<kbd> control </kbd> + <kbd> c </kbd> on a MAC. \n",
    "If you close your browser but the server's still running you can open a new tab to the server at the address listed in your terminal that starts with\n",
    " <span style=\"background-color: #D8D8D8\">  http://localhost:8888/?token=</span>."
   ]
  },
  {
   "cell_type": "markdown",
   "metadata": {
    "colab_type": "text",
    "id": "VzIoCCA1DaNA"
   },
   "source": [
    "## Jupyter Notebook    \n",
    "\n",
    "\n",
    "Before going forward you should make sure Jupyter is installed on your machine. You can do this with \n",
    "\n",
    "<div class=\"alert alert-success\">jupyter --version </div>\n",
    "from your command line.\n",
    "\n",
    "\n",
    "### Launching Jupyter\n",
    "\n",
    "The Jupyter Notebook App can be launched by clicking on the Jupyter Notebook icon installed by Anaconda in the start menu (Windows) or by typing in a terminal (cmd on Windows):\n",
    "\n",
    "<div class=\"alert alert-success\">jupyter notebook </div>\n",
    "\n",
    "If you want to open an already existing notebook run:\n",
    "\n",
    "<div class=\"alert alert-success\">jupyter notebook [your/particular/filepath] </div>\n",
    "\n",
    "\n",
    "\n",
    "### Cells    \n",
    "\n",
    "Notebooks are divided into cells. Below is an empty cell:"
   ]
  },
  {
   "cell_type": "code",
   "execution_count": 0,
   "metadata": {
    "colab": {},
    "colab_type": "code",
    "id": "b94RqDGLDaNB"
   },
   "outputs": [],
   "source": []
  },
  {
   "cell_type": "markdown",
   "metadata": {
    "colab_type": "text",
    "id": "RN_sg1FIDaNE"
   },
   "source": [
    "Cells will be the home to all of the content you put into notebooks. Below we have a cell with some simple code."
   ]
  },
  {
   "cell_type": "code",
   "execution_count": 0,
   "metadata": {
    "colab": {},
    "colab_type": "code",
    "id": "BjEJwajCDaNE"
   },
   "outputs": [],
   "source": [
    "message = 'Hello! This string is stored in the variable \"message\"'"
   ]
  },
  {
   "cell_type": "markdown",
   "metadata": {
    "colab_type": "text",
    "id": "aHD_DYhlDaNG"
   },
   "source": [
    "Now, when you just write code into a cell nothing really happens. You have to 'run' or execute it. To execute a cell you can press the run cell button from the menu bar at the top of the notebook (it's the triangle pointing to the right with a line next to it) or you can press <kbd>shift</kbd> and <kbd>enter</kbd> when the cell is highlighted."
   ]
  },
  {
   "cell_type": "code",
   "execution_count": 0,
   "metadata": {
    "colab": {},
    "colab_type": "code",
    "id": "Ctt00AAsDaNH",
    "outputId": "1e7132ab-9a99-4b22-ab69-0734b6333409"
   },
   "outputs": [
    {
     "name": "stdout",
     "output_type": "stream",
     "text": [
      "Hello! This string is stored in the variable \"message\"\n"
     ]
    }
   ],
   "source": [
    "print(message)"
   ]
  },
  {
   "cell_type": "markdown",
   "metadata": {
    "colab_type": "text",
    "id": "BlPZAmx-DaNJ"
   },
   "source": [
    "If you change code in your cell and run it multiple times you can change the variables or outputs in a way you don't intend. Same thing if you run cells out of order. That's why it's __VERY IMPORTANT__ that you keep all of your code ordered and runable.\n",
    "\n",
    "Basically what this means is that you should be able to restart your notebook and run every cell in order to get to the result you want. If you have to run things out of order or rerun cells, that's likely going to cause problems both for you and anyone else reading your code.\n",
    "\n",
    "\n",
    "### Markdown\n",
    "\n",
    "So far we've only talked about code cells, but there are other kinds of cells as well. The main other kind of cell you should know about is **markdown**. This cell is actually a markdown cell. You can double click it (if you uploaded the jupyter notebook file) to see and edit the raw markdown, then run the cell again to see the markdown rendered.\n",
    "\n",
    "When you're using notebooks to write reports, you want to be able to include prose that isn't very appropriate for code comments. Markdown is useful for this.\n",
    "\n",
    "\n",
    "\n",
    "Jupyter supports full markdown so you can do all sorts of things, like\n",
    "\n",
    "_Italics_\n",
    "\n",
    "__Bold__\n",
    "\n",
    "# Big Headers\n",
    "\n",
    "\n",
    "\n",
    "both `inline` code\n",
    "\n",
    "```python\n",
    "# And syntax-highlighted\n",
    "multiline()\n",
    "codeblock = \"samples\"\n",
    "```\n",
    "\n",
    "Embedded HTML like <kbd>key</kbd> tags and <span style=\"color:red;\">tags with custom CSS</span>.\n",
    "\n",
    "And LaTeX style equations: $e^{i\\pi} + 1 = 0$\n",
    "\n",
    "Probably most usefully, you have [links](http://jupyter-notebook.readthedocs.io/en/latest/notebook.html).\n",
    "\n",
    "That link above is the nice and readable documentation for Jupyter. It's worth looking through if you have any further questions about notebooks. For more detail on markdown specifically, [see here](http://jupyter-notebook.readthedocs.io/en/latest/examples/Notebook/Working%20With%20Markdown%20Cells.html). \n",
    "\n",
    "And look, our code still works, and `message` is still defined :)"
   ]
  },
  {
   "cell_type": "code",
   "execution_count": 0,
   "metadata": {
    "colab": {},
    "colab_type": "code",
    "id": "StFH792GDaNK",
    "outputId": "466ade7e-d563-4b5d-d0c3-595d59e6da21"
   },
   "outputs": [
    {
     "name": "stdout",
     "output_type": "stream",
     "text": [
      "Hello! This string is stored in the variable \"message\"\n"
     ]
    }
   ],
   "source": [
    "print(message)"
   ]
  },
  {
   "cell_type": "markdown",
   "metadata": {
    "colab_type": "text",
    "id": "tMAoQ81DDaNM"
   },
   "source": [
    "That should be enough to get you started with Jupyter. If you have more questions read [the docs](http://jupyter-notebook.readthedocs.io/en/latest/notebook.html)."
   ]
  }
 ],
 "metadata": {
  "colab": {
   "name": "Week1_Part1.ipynb",
   "provenance": []
  },
  "kernelspec": {
   "display_name": "Python 3",
   "language": "python",
   "name": "python3"
  },
  "language_info": {
   "codemirror_mode": {
    "name": "ipython",
    "version": 3
   },
   "file_extension": ".py",
   "mimetype": "text/x-python",
   "name": "python",
   "nbconvert_exporter": "python",
   "pygments_lexer": "ipython3",
   "version": "3.8.5"
  },
  "toc": {
   "base_numbering": 1,
   "nav_menu": {},
   "number_sections": true,
   "sideBar": true,
   "skip_h1_title": true,
   "title_cell": "Table of Contents",
   "title_sidebar": "Contents",
   "toc_cell": false,
   "toc_position": {},
   "toc_section_display": true,
   "toc_window_display": true
  }
 },
 "nbformat": 4,
 "nbformat_minor": 1
}
