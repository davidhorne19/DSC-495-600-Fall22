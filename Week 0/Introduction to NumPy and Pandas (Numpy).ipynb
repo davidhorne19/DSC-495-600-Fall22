{
 "cells": [
  {
   "cell_type": "markdown",
   "metadata": {
    "colab_type": "text",
    "id": "xiWyJwtYDlyX"
   },
   "source": [
    "[Introduction to NumPy and Pandas (NumPy)](#Introduction-to-NumPy-and-Pandas-(NumPy))   \n",
    "1. [NumPy](#NumPy)   \n",
    "     a. [Arrays](#Arrays)    \n",
    "     b. [Element-wise and Aggregator functions](#Element-wise-and-Aggregator-functions)     \n",
    "2. [Pandas](#Pandas)    \n",
    "     a. [The Data Frame](#The-Data-Frame)   \n",
    "     b. [Adding More Data](#Adding-More-Data)     \n",
    "3. [Pandas - Selecting and Grouping](#Pandas-Selecting-and-Grouping)  \n",
    "     a. [Basic Selects with `.loc` and `.iloc`](#Basic-Selects-with-`.loc`-and-`.iloc`)    \n",
    "     b. [Conditional Selection](#Conditional-Selection)   \n",
    "     c. [Groups](#Groups)         \n",
    "4.[Working with Files](#Working-with-Files)        \n",
    "     a. [Opening CSV files with Pandas](#Opening-CSV-files-with-Pandas)   \n",
    "\n",
    "\n",
    "\n",
    "# Introduction to NumPy and Pandas (NumPy)"
   ]
  },
  {
   "cell_type": "markdown",
   "metadata": {
    "colab_type": "text",
    "id": "qHTInG0RDlya"
   },
   "source": [
    "## NumPy\n",
    "\n",
    "[_NumPy_](https://docs.scipy.org/doc/numpy/reference/) is the basic package for doing slightly more advanced math and storing data in an analytics-friendly form.You should have installed NumPy on your local environment in the previous Unit. If you don't yet have NumPy installed, install it now with:\n",
    "\n",
    "<div class=\"alert alert-success\">pip install numpy</div>\n",
    "\n",
    "Once NumPy is installed we have to import the package into our current environment to actually use it. We do this with an \n",
    "<span style=\"background-color: #D8D8D8\">import</span> statement.\n",
    "\n",
    "The shorthand for <span style=\"background-color: #D8D8D8\">numpy</span> is simply <span style=\"background-color: #D8D8D8\">np</span>. You can import and set the abbreviation like this:"
   ]
  },
  {
   "cell_type": "code",
   "execution_count": 2,
   "metadata": {
    "colab": {},
    "colab_type": "code",
    "id": "OJEVLfTGDlya"
   },
   "outputs": [],
   "source": [
    "import numpy as np"
   ]
  },
  {
   "cell_type": "markdown",
   "metadata": {
    "colab_type": "text",
    "id": "NaimIS3hDlyd"
   },
   "source": [
    "Import statements will work at any point in a script or any cell in a notebook. However, [Python style](https://www.python.org/dev/peps/pep-0008/#imports) requires they should always appear at the beginning of the script or in the first cell (most notebooks will use the first cell just for this purpose).\n",
    "\n",
    "\n",
    "### Arrays\n",
    "\n",
    "NumPy is the fundamental package for storing and manipulating mathematical data in Python. NumPy primarily accomplishes this with a new data structure: the _array_.\n",
    "Arrays use bracket notation <span style=\"background-color: #D8D8D8\"> [ ] </span> to access items by index, just like lists and strings. We can create an array by calling <span style=\"background-color: #D8D8D8\">  \n",
    " np.array() </span > and passing in any iterable. A list, for example:"
   ]
  },
  {
   "cell_type": "code",
   "execution_count": 3,
   "metadata": {
    "colab": {},
    "colab_type": "code",
    "id": "H089KPsGDlye",
    "outputId": "4f1c0924-9984-4375-a7cc-586e4c81fee6"
   },
   "outputs": [
    {
     "data": {
      "text/plain": [
       "array([  1,   4,   9,  25,  36,  49,  64,  81, 100])"
      ]
     },
     "execution_count": 3,
     "metadata": {},
     "output_type": "execute_result"
    }
   ],
   "source": [
    "x = np.array([1, 4, 9, 25, 36, 49, 64, 81, 100])\n",
    "x"
   ]
  },
  {
   "cell_type": "markdown",
   "metadata": {
    "colab_type": "text",
    "id": "D9MCfyHdDlyh"
   },
   "source": [
    "You can add multiple dimensions to your array by either manually creating an array of arrays or with <span style=\"background-color: #D8D8D8\">np.arange()</span>. Here are two ways to generate the same thing:"
   ]
  },
  {
   "cell_type": "code",
   "execution_count": 4,
   "metadata": {
    "colab": {},
    "colab_type": "code",
    "id": "6X5VUvTEDlyi",
    "outputId": "c0c1cc06-f24e-404f-dcfc-b380b5dda789"
   },
   "outputs": [
    {
     "data": {
      "text/plain": [
       "array([[ 1,  4, 25,  9],\n",
       "       [25, 36, 49, 64]])"
      ]
     },
     "execution_count": 4,
     "metadata": {},
     "output_type": "execute_result"
    }
   ],
   "source": [
    "w = np.array([[1, 4, 25, 9],[25, 36, 49, 64]])\n",
    "w"
   ]
  },
  {
   "cell_type": "code",
   "execution_count": 5,
   "metadata": {
    "colab": {},
    "colab_type": "code",
    "id": "iSlfBLJBDlyk",
    "outputId": "39ab753e-a5b6-4d19-8010-695509734af0"
   },
   "outputs": [
    {
     "data": {
      "text/plain": [
       "array([[0, 1, 2, 3],\n",
       "       [4, 5, 6, 7]])"
      ]
     },
     "execution_count": 5,
     "metadata": {},
     "output_type": "execute_result"
    }
   ],
   "source": [
    "y = np.arange(8).reshape(2, 4)\n",
    "y"
   ]
  },
  {
   "cell_type": "markdown",
   "metadata": {
    "colab_type": "text",
    "id": "yx-IkdQyDlym"
   },
   "source": [
    "### Element-wise and Aggregator functions\n",
    "\n",
    "Now that you've seen the basic data structure of NumPy we can introduce a few other functionalities of this package. NumPy's primary value is the ability to do more sophisticated arithmetic than basic Python can do out of the box. NumPy allows you to do these computations in two ways: with <span style=\"background-color: #D8D8D8\">element-wise</span> functions that process array elements one at a time and then return a new array, and with <span style=\"background-color: #D8D8D8\">aggregator</span> functions that process the array into a single value the function returns.   \n",
    "\n",
    "Element-wise functions that return a new array:"
   ]
  },
  {
   "cell_type": "code",
   "execution_count": 6,
   "metadata": {
    "colab": {},
    "colab_type": "code",
    "id": "X8LCGdKKDlyn",
    "outputId": "9406109f-11d8-465e-f64d-258b922bb380"
   },
   "outputs": [
    {
     "name": "stdout",
     "output_type": "stream",
     "text": [
      "[   1   16   81  625 1296]\n",
      "[1. 2. 3. 5. 6.]\n",
      "[ 0.54030231 -0.65364362 -0.91113026  0.99120281 -0.12796369]\n"
     ]
    }
   ],
   "source": [
    "x = np.array([1, 4, 9, 25, 36])\n",
    "# Square each value.\n",
    "print(np.square(x))\n",
    "\n",
    "# Square root of each value.\n",
    "print(np.sqrt(x))\n",
    "\n",
    "# Cosine of each value.\n",
    "print(np.cos(x))"
   ]
  },
  {
   "cell_type": "markdown",
   "metadata": {
    "colab_type": "text",
    "id": "BWajkSDLDlyp"
   },
   "source": [
    "Aggregator functions that aggregate the elements of an array and return a single value:"
   ]
  },
  {
   "cell_type": "code",
   "execution_count": 7,
   "metadata": {
    "colab": {},
    "colab_type": "code",
    "id": "KQyR5yMSDlyq",
    "outputId": "c8906b2a-6039-43ba-ef46-dd1c467fa8b6"
   },
   "outputs": [
    {
     "name": "stdout",
     "output_type": "stream",
     "text": [
      "36\n",
      "1\n",
      "15.0\n",
      "13.371611720357423\n"
     ]
    }
   ],
   "source": [
    "x = np.array([1, 4, 9, 25, 36])\n",
    "\n",
    "# Find the maximum value.\n",
    "print(np.max(x))\n",
    "\n",
    "# Find the minimum value.\n",
    "print(np.min(x))\n",
    "\n",
    "# Find the mean of the input array.\n",
    "print(np.mean(x))\n",
    "\n",
    "# Find the standard deviation of the input array.\n",
    "print(np.std(x))"
   ]
  },
  {
   "cell_type": "markdown",
   "metadata": {
    "colab_type": "text",
    "id": "to7XhYvsDlys"
   },
   "source": [
    "Note that these aggregator functions return single values, rather than arrays. That is what an aggregator does. It takes a set of multiple data values and condenses them (or aggregates them) into a single value according to some rule. So <span style=\"background-color: #D8D8D8\">np.min()</span> returns the minimum value of all the data given to it, <span style=\"background-color: #D8D8D8\">np.mean()</span> the mean, and so on. These are some of the basic functions of NumPy, but there are many more. If you'd like to know more now you can look through the basic [NumPy documentation](https://docs.scipy.org/doc/numpy-dev/user/quickstart.html).\n",
    "\n",
    "\n",
    "## Pandas \n",
    "\n",
    "Nowadays, Pandas is the most heavily utilized package in Python for data scientists. It is Built on top of NumPy, it is essential to data manipulation, organization, and modeling. We'll introduce some of its core functionalities as well as its primary data structure: the data frame. First we have to import the package, which typically gets the abbreviation <span style=\"background-color: #D8D8D8\">pd</span>. "
   ]
  },
  {
   "cell_type": "code",
   "execution_count": 8,
   "metadata": {
    "colab": {},
    "colab_type": "code",
    "id": "4APKj99gDlyt"
   },
   "outputs": [],
   "source": [
    "import pandas as pd"
   ]
  },
  {
   "cell_type": "markdown",
   "metadata": {
    "colab_type": "text",
    "id": "-82Pg7T1Dlyv"
   },
   "source": [
    "### The Data Frame\n",
    "\n",
    "The <span style=\"background-color: #D8D8D8\">data frame</span> is like a NumPy array, with a few additional features like column names and row indexing.  You can create a data frame in many different ways, either from csv files, by querying databases, or explicitly. For your first data frame, let's create a 2-dimensional Numpy array. Then, to create a data frame use the <span style=\"background-color: #D8D8D8\">pd.DataFrame()</span> function and pass in the NumPy array:\n"
   ]
  },
  {
   "cell_type": "code",
   "execution_count": 9,
   "metadata": {
    "colab": {},
    "colab_type": "code",
    "id": "NSRw8akZDlyv",
    "outputId": "c35f44fa-671f-4d07-f6c5-100174d8d856"
   },
   "outputs": [
    {
     "data": {
      "text/html": [
       "<div>\n",
       "<style scoped>\n",
       "    .dataframe tbody tr th:only-of-type {\n",
       "        vertical-align: middle;\n",
       "    }\n",
       "\n",
       "    .dataframe tbody tr th {\n",
       "        vertical-align: top;\n",
       "    }\n",
       "\n",
       "    .dataframe thead th {\n",
       "        text-align: right;\n",
       "    }\n",
       "</style>\n",
       "<table border=\"1\" class=\"dataframe\">\n",
       "  <thead>\n",
       "    <tr style=\"text-align: right;\">\n",
       "      <th></th>\n",
       "      <th>0</th>\n",
       "      <th>1</th>\n",
       "      <th>2</th>\n",
       "      <th>3</th>\n",
       "      <th>4</th>\n",
       "    </tr>\n",
       "  </thead>\n",
       "  <tbody>\n",
       "    <tr>\n",
       "      <th>0</th>\n",
       "      <td>87</td>\n",
       "      <td>127</td>\n",
       "      <td>101</td>\n",
       "      <td>94</td>\n",
       "      <td>97</td>\n",
       "    </tr>\n",
       "    <tr>\n",
       "      <th>1</th>\n",
       "      <td>1035</td>\n",
       "      <td>1034</td>\n",
       "      <td>1173</td>\n",
       "      <td>1347</td>\n",
       "      <td>1029</td>\n",
       "    </tr>\n",
       "  </tbody>\n",
       "</table>\n",
       "</div>"
      ],
      "text/plain": [
       "      0     1     2     3     4\n",
       "0    87   127   101    94    97\n",
       "1  1035  1034  1173  1347  1029"
      ]
     },
     "execution_count": 9,
     "metadata": {},
     "output_type": "execute_result"
    }
   ],
   "source": [
    "my_array = np.array([[87,127,101, 94, 97],\n",
    "                     [1035, 1034, 1173, 1347,1029]])\n",
    "df = pd.DataFrame(my_array)\n",
    "df"
   ]
  },
  {
   "cell_type": "markdown",
   "metadata": {
    "colab_type": "text",
    "id": "hQW2jIAkDlyx"
   },
   "source": [
    "Data frames are organized into rows and columns that are nameable. Columns are labeled with column names, rows with an index number (starting with zero by default). You can set both column names and indexes explicitly during the creation of the data frame or after the fact. Let's set both for <span style=\"background-color: #D8D8D8\">df</span> from above."
   ]
  },
  {
   "cell_type": "code",
   "execution_count": 10,
   "metadata": {
    "colab": {},
    "colab_type": "code",
    "id": "Z5wXd_UZDlyy",
    "outputId": "1fd1ee06-aec7-466b-e186-cc83e34ac383"
   },
   "outputs": [
    {
     "data": {
      "text/html": [
       "<div>\n",
       "<style scoped>\n",
       "    .dataframe tbody tr th:only-of-type {\n",
       "        vertical-align: middle;\n",
       "    }\n",
       "\n",
       "    .dataframe tbody tr th {\n",
       "        vertical-align: top;\n",
       "    }\n",
       "\n",
       "    .dataframe thead th {\n",
       "        text-align: right;\n",
       "    }\n",
       "</style>\n",
       "<table border=\"1\" class=\"dataframe\">\n",
       "  <thead>\n",
       "    <tr style=\"text-align: right;\">\n",
       "      <th></th>\n",
       "      <th>John</th>\n",
       "      <th>Emily</th>\n",
       "      <th>Adam</th>\n",
       "      <th>Caroline</th>\n",
       "      <th>Tim</th>\n",
       "    </tr>\n",
       "  </thead>\n",
       "  <tbody>\n",
       "    <tr>\n",
       "      <th>IQ Score</th>\n",
       "      <td>87</td>\n",
       "      <td>127</td>\n",
       "      <td>101</td>\n",
       "      <td>94</td>\n",
       "      <td>97</td>\n",
       "    </tr>\n",
       "    <tr>\n",
       "      <th>Brain Volume (cm^3)</th>\n",
       "      <td>1035</td>\n",
       "      <td>1034</td>\n",
       "      <td>1173</td>\n",
       "      <td>1347</td>\n",
       "      <td>1029</td>\n",
       "    </tr>\n",
       "  </tbody>\n",
       "</table>\n",
       "</div>"
      ],
      "text/plain": [
       "                     John  Emily  Adam  Caroline   Tim\n",
       "IQ Score               87    127   101        94    97\n",
       "Brain Volume (cm^3)  1035   1034  1173      1347  1029"
      ]
     },
     "execution_count": 10,
     "metadata": {},
     "output_type": "execute_result"
    }
   ],
   "source": [
    "df.columns = ['John', 'Emily','Adam', 'Caroline','Tim']\n",
    "df.index = ['IQ Score', 'Brain Volume (cm^3)']\n",
    "df"
   ]
  },
  {
   "cell_type": "markdown",
   "metadata": {
    "colab_type": "text",
    "id": "1SJMHmO4Dlyz"
   },
   "source": [
    "You can also set column and index names through the <span style=\"background-color: #D8D8D8\">column=</span> or <span style=\"background-color: #D8D8D8\">index=</span> keyword arguments when you call the <span style=\"background-color: #D8D8D8\">pd.DataFrame()</span> function to initially construct the data frame."
   ]
  },
  {
   "cell_type": "code",
   "execution_count": 11,
   "metadata": {
    "colab": {},
    "colab_type": "code",
    "id": "QKM0xxyxDly0",
    "outputId": "47863cae-9793-43d6-867a-128a01c5d963"
   },
   "outputs": [
    {
     "data": {
      "text/html": [
       "<div>\n",
       "<style scoped>\n",
       "    .dataframe tbody tr th:only-of-type {\n",
       "        vertical-align: middle;\n",
       "    }\n",
       "\n",
       "    .dataframe tbody tr th {\n",
       "        vertical-align: top;\n",
       "    }\n",
       "\n",
       "    .dataframe thead th {\n",
       "        text-align: right;\n",
       "    }\n",
       "</style>\n",
       "<table border=\"1\" class=\"dataframe\">\n",
       "  <thead>\n",
       "    <tr style=\"text-align: right;\">\n",
       "      <th></th>\n",
       "      <th>John</th>\n",
       "      <th>Emily</th>\n",
       "      <th>Adam</th>\n",
       "      <th>Caroline</th>\n",
       "      <th>Tim</th>\n",
       "    </tr>\n",
       "  </thead>\n",
       "  <tbody>\n",
       "    <tr>\n",
       "      <th>IQ Score</th>\n",
       "      <td>87</td>\n",
       "      <td>127</td>\n",
       "      <td>101</td>\n",
       "      <td>94</td>\n",
       "      <td>97</td>\n",
       "    </tr>\n",
       "    <tr>\n",
       "      <th>Brain Volume (cm^3)</th>\n",
       "      <td>1035</td>\n",
       "      <td>1034</td>\n",
       "      <td>1173</td>\n",
       "      <td>1347</td>\n",
       "      <td>1029</td>\n",
       "    </tr>\n",
       "  </tbody>\n",
       "</table>\n",
       "</div>"
      ],
      "text/plain": [
       "                     John  Emily  Adam  Caroline   Tim\n",
       "IQ Score               87    127   101        94    97\n",
       "Brain Volume (cm^3)  1035   1034  1173      1347  1029"
      ]
     },
     "execution_count": 11,
     "metadata": {},
     "output_type": "execute_result"
    }
   ],
   "source": [
    "df2 = pd.DataFrame(\n",
    "    my_array,\n",
    "    columns=['John', 'Emily','Adam', 'Caroline','Tim'],\n",
    "    index=['IQ Score', 'Brain Volume (cm^3)'])\n",
    "df2"
   ]
  },
  {
   "cell_type": "markdown",
   "metadata": {
    "colab_type": "text",
    "id": "xUDPw4SDDly2"
   },
   "source": [
    "Whichever method you use, we now have a data frame with labeled rows and columns. This will be useful for working with data frames, because it makes these elements easily callable and makes your code more natural to write and simpler to read.\n",
    "\n",
    "### Adding More Data\n",
    "\n",
    "To show what data frames can really do we're going to need to make something a little bit bigger. Let's assemble a data frame with named columns via lists. You can create an empty data frame by calling the <span style=\"background-color: #D8D8D8\">pd.DataFrame()</span> function and passing in the indexes you'd like to use for row names, then add columns using <span style=\"background-color: #D8D8D8\">df['COLUMN_NAME'] = [LIST_OF_VALUES]</span>. For example:"
   ]
  },
  {
   "cell_type": "code",
   "execution_count": 12,
   "metadata": {
    "colab": {},
    "colab_type": "code",
    "id": "-UMS1cHlDly2",
    "outputId": "3697ab7f-d17e-42a4-efef-41dab281dd82"
   },
   "outputs": [
    {
     "data": {
      "text/html": [
       "<div>\n",
       "<style scoped>\n",
       "    .dataframe tbody tr th:only-of-type {\n",
       "        vertical-align: middle;\n",
       "    }\n",
       "\n",
       "    .dataframe tbody tr th {\n",
       "        vertical-align: top;\n",
       "    }\n",
       "\n",
       "    .dataframe thead th {\n",
       "        text-align: right;\n",
       "    }\n",
       "</style>\n",
       "<table border=\"1\" class=\"dataframe\">\n",
       "  <thead>\n",
       "    <tr style=\"text-align: right;\">\n",
       "      <th></th>\n",
       "      <th>country</th>\n",
       "      <th>ad_views</th>\n",
       "      <th>items_purchased</th>\n",
       "    </tr>\n",
       "  </thead>\n",
       "  <tbody>\n",
       "    <tr>\n",
       "      <th>George</th>\n",
       "      <td>US</td>\n",
       "      <td>16</td>\n",
       "      <td>2</td>\n",
       "    </tr>\n",
       "    <tr>\n",
       "      <th>John</th>\n",
       "      <td>CAN</td>\n",
       "      <td>42</td>\n",
       "      <td>1</td>\n",
       "    </tr>\n",
       "    <tr>\n",
       "      <th>Thomas</th>\n",
       "      <td>CAN</td>\n",
       "      <td>32</td>\n",
       "      <td>0</td>\n",
       "    </tr>\n",
       "    <tr>\n",
       "      <th>James</th>\n",
       "      <td>US</td>\n",
       "      <td>13</td>\n",
       "      <td>8</td>\n",
       "    </tr>\n",
       "    <tr>\n",
       "      <th>Andrew</th>\n",
       "      <td>CAN</td>\n",
       "      <td>63</td>\n",
       "      <td>0</td>\n",
       "    </tr>\n",
       "    <tr>\n",
       "      <th>Martin</th>\n",
       "      <td>US</td>\n",
       "      <td>19</td>\n",
       "      <td>5</td>\n",
       "    </tr>\n",
       "    <tr>\n",
       "      <th>William</th>\n",
       "      <td>US</td>\n",
       "      <td>65</td>\n",
       "      <td>7</td>\n",
       "    </tr>\n",
       "    <tr>\n",
       "      <th>Zachary</th>\n",
       "      <td>US</td>\n",
       "      <td>23</td>\n",
       "      <td>3</td>\n",
       "    </tr>\n",
       "    <tr>\n",
       "      <th>Millard</th>\n",
       "      <td>CAN</td>\n",
       "      <td>16</td>\n",
       "      <td>0</td>\n",
       "    </tr>\n",
       "    <tr>\n",
       "      <th>Franklin</th>\n",
       "      <td>US</td>\n",
       "      <td>77</td>\n",
       "      <td>5</td>\n",
       "    </tr>\n",
       "  </tbody>\n",
       "</table>\n",
       "</div>"
      ],
      "text/plain": [
       "         country  ad_views  items_purchased\n",
       "George        US        16                2\n",
       "John         CAN        42                1\n",
       "Thomas       CAN        32                0\n",
       "James         US        13                8\n",
       "Andrew       CAN        63                0\n",
       "Martin        US        19                5\n",
       "William       US        65                7\n",
       "Zachary       US        23                3\n",
       "Millard      CAN        16                0\n",
       "Franklin      US        77                5"
      ]
     },
     "execution_count": 12,
     "metadata": {},
     "output_type": "execute_result"
    }
   ],
   "source": [
    "# This list will become our row names.\n",
    "names = ['George',\n",
    "         'John',\n",
    "         'Thomas',\n",
    "         'James',\n",
    "         'Andrew',\n",
    "         'Martin',\n",
    "         'William',\n",
    "         'Zachary',\n",
    "         'Millard',\n",
    "         'Franklin']\n",
    "\n",
    "# Create an empty data frame with named rows.\n",
    "purchases = pd.DataFrame(index=names)\n",
    "\n",
    "# Add our columns to the data frame one at a time.\n",
    "purchases['country'] = ['US', 'CAN', 'CAN', 'US', 'CAN', 'US', 'US', 'US', 'CAN', 'US']\n",
    "purchases['ad_views'] = [16, 42, 32, 13, 63, 19, 65, 23, 16, 77]\n",
    "purchases['items_purchased'] = [2, 1, 0, 8, 0, 5, 7, 3, 0, 5]\n",
    "purchases "
   ]
  },
  {
   "cell_type": "markdown",
   "metadata": {
    "colab_type": "text",
    "id": "lbl3FEPmDly4"
   },
   "source": [
    "Let's say this is the purchase and browsing history for several users of an ecommerce website for a given year. Page views is the number of pages they've loaded on the site and purchases is the number of items they've bought that year.\n",
    "\n",
    "Now we have a data frame we can do something with. First note that you can call out a column as a series using *either* dot notation *or* bracket notation: <span style=\"background-color: #D8D8D8\">df.column_name</span> or <span style=\"background-color: #D8D8D8\">df['column_name']</span> both work. So <span style=\"background-color: #D8D8D8\">purchases['Name']</span> returns the names of users who visited the ecommerce website, as does <span style=\"background-color: #D8D8D8\">purchases.Name</span>. Bracket notation is generally preferred and we'll use bracket notation here.\n",
    "\n",
    "Pandas also makes it very easy to create a new column out of our previous data. Let's say we want to create a column of the average items purchased per page view, and call the column <span style=\"background-color: #D8D8D8\">items_purch_per_view</span>. We can do that with this one-liner:"
   ]
  },
  {
   "cell_type": "code",
   "execution_count": 13,
   "metadata": {
    "colab": {},
    "colab_type": "code",
    "id": "1eYqxa6YDly6",
    "outputId": "c5831c26-ed2e-4f13-e015-300dce477c07"
   },
   "outputs": [
    {
     "data": {
      "text/html": [
       "<div>\n",
       "<style scoped>\n",
       "    .dataframe tbody tr th:only-of-type {\n",
       "        vertical-align: middle;\n",
       "    }\n",
       "\n",
       "    .dataframe tbody tr th {\n",
       "        vertical-align: top;\n",
       "    }\n",
       "\n",
       "    .dataframe thead th {\n",
       "        text-align: right;\n",
       "    }\n",
       "</style>\n",
       "<table border=\"1\" class=\"dataframe\">\n",
       "  <thead>\n",
       "    <tr style=\"text-align: right;\">\n",
       "      <th></th>\n",
       "      <th>country</th>\n",
       "      <th>ad_views</th>\n",
       "      <th>items_purchased</th>\n",
       "      <th>items_purch_per_ad</th>\n",
       "    </tr>\n",
       "  </thead>\n",
       "  <tbody>\n",
       "    <tr>\n",
       "      <th>George</th>\n",
       "      <td>US</td>\n",
       "      <td>16</td>\n",
       "      <td>2</td>\n",
       "      <td>0.125000</td>\n",
       "    </tr>\n",
       "    <tr>\n",
       "      <th>John</th>\n",
       "      <td>CAN</td>\n",
       "      <td>42</td>\n",
       "      <td>1</td>\n",
       "      <td>0.023810</td>\n",
       "    </tr>\n",
       "    <tr>\n",
       "      <th>Thomas</th>\n",
       "      <td>CAN</td>\n",
       "      <td>32</td>\n",
       "      <td>0</td>\n",
       "      <td>0.000000</td>\n",
       "    </tr>\n",
       "    <tr>\n",
       "      <th>James</th>\n",
       "      <td>US</td>\n",
       "      <td>13</td>\n",
       "      <td>8</td>\n",
       "      <td>0.615385</td>\n",
       "    </tr>\n",
       "    <tr>\n",
       "      <th>Andrew</th>\n",
       "      <td>CAN</td>\n",
       "      <td>63</td>\n",
       "      <td>0</td>\n",
       "      <td>0.000000</td>\n",
       "    </tr>\n",
       "    <tr>\n",
       "      <th>Martin</th>\n",
       "      <td>US</td>\n",
       "      <td>19</td>\n",
       "      <td>5</td>\n",
       "      <td>0.263158</td>\n",
       "    </tr>\n",
       "    <tr>\n",
       "      <th>William</th>\n",
       "      <td>US</td>\n",
       "      <td>65</td>\n",
       "      <td>7</td>\n",
       "      <td>0.107692</td>\n",
       "    </tr>\n",
       "    <tr>\n",
       "      <th>Zachary</th>\n",
       "      <td>US</td>\n",
       "      <td>23</td>\n",
       "      <td>3</td>\n",
       "      <td>0.130435</td>\n",
       "    </tr>\n",
       "    <tr>\n",
       "      <th>Millard</th>\n",
       "      <td>CAN</td>\n",
       "      <td>16</td>\n",
       "      <td>0</td>\n",
       "      <td>0.000000</td>\n",
       "    </tr>\n",
       "    <tr>\n",
       "      <th>Franklin</th>\n",
       "      <td>US</td>\n",
       "      <td>77</td>\n",
       "      <td>5</td>\n",
       "      <td>0.064935</td>\n",
       "    </tr>\n",
       "  </tbody>\n",
       "</table>\n",
       "</div>"
      ],
      "text/plain": [
       "         country  ad_views  items_purchased  items_purch_per_ad\n",
       "George        US        16                2            0.125000\n",
       "John         CAN        42                1            0.023810\n",
       "Thomas       CAN        32                0            0.000000\n",
       "James         US        13                8            0.615385\n",
       "Andrew       CAN        63                0            0.000000\n",
       "Martin        US        19                5            0.263158\n",
       "William       US        65                7            0.107692\n",
       "Zachary       US        23                3            0.130435\n",
       "Millard      CAN        16                0            0.000000\n",
       "Franklin      US        77                5            0.064935"
      ]
     },
     "execution_count": 13,
     "metadata": {},
     "output_type": "execute_result"
    }
   ],
   "source": [
    "purchases['items_purch_per_ad'] = purchases['items_purchased'] / purchases['ad_views']\n",
    "purchases"
   ]
  },
  {
   "cell_type": "markdown",
   "metadata": {
    "colab_type": "text",
    "id": "y3Bxh6zzDly7"
   },
   "source": [
    "If we just want to _see_ those values and don't need to _store_ them as a new column in our data frame we can just run that function without assigning it to <span style=\"background-color: #D8D8D8\">purchases['items_purch_per_ad']</span> and it will return labeled values giving the name and the purchases per ad for each user."
   ]
  },
  {
   "cell_type": "code",
   "execution_count": 14,
   "metadata": {
    "colab": {},
    "colab_type": "code",
    "id": "qvGr-g7tDly8",
    "outputId": "366136ef-f82d-4118-c4af-66d58615b11a"
   },
   "outputs": [
    {
     "data": {
      "text/plain": [
       "George      0.125000\n",
       "John        0.023810\n",
       "Thomas      0.000000\n",
       "James       0.615385\n",
       "Andrew      0.000000\n",
       "Martin      0.263158\n",
       "William     0.107692\n",
       "Zachary     0.130435\n",
       "Millard     0.000000\n",
       "Franklin    0.064935\n",
       "dtype: float64"
      ]
     },
     "execution_count": 14,
     "metadata": {},
     "output_type": "execute_result"
    }
   ],
   "source": [
    "purchases['items_purchased'] / purchases['ad_views']"
   ]
  },
  {
   "cell_type": "markdown",
   "metadata": {
    "colab_type": "text",
    "id": "lhM3tTknDly-"
   },
   "source": [
    "## Pandas - Selecting and Grouping\n",
    "\n",
    "The most basic form of indexing, or \"selection\" with the bracketed selection of column names. Recall what we did before on our purchases data:"
   ]
  },
  {
   "cell_type": "code",
   "execution_count": 15,
   "metadata": {
    "colab": {},
    "colab_type": "code",
    "id": "S9pRvFiLDly-",
    "outputId": "29a91f84-e19a-4a5b-f7a4-ae23ca418d47"
   },
   "outputs": [
    {
     "data": {
      "text/plain": [
       "George       US\n",
       "John        CAN\n",
       "Thomas      CAN\n",
       "James        US\n",
       "Andrew      CAN\n",
       "Martin       US\n",
       "William      US\n",
       "Zachary      US\n",
       "Millard     CAN\n",
       "Franklin     US\n",
       "Name: country, dtype: object"
      ]
     },
     "execution_count": 15,
     "metadata": {},
     "output_type": "execute_result"
    }
   ],
   "source": [
    "purchases['country']"
   ]
  },
  {
   "cell_type": "markdown",
   "metadata": {
    "colab_type": "text",
    "id": "kjLp6ncYDlzA"
   },
   "source": [
    "Which returns the data from the column named \"country\". However, for more sophisticated selection we will need to use the Pandas dataframe indexing methods.\n",
    "\n",
    "### Basic Selects with `.loc` and `.iloc`\n",
    "\n",
    "[`.loc`](http://pandas.pydata.org/pandas-docs/stable/generated/pandas.DataFrame.loc.html) is a selector that indexes over rows and columns. It selects over the row index first, then the column name (if included). [`.iloc`](http://pandas.pydata.org/pandas-docs/stable/generated/pandas.DataFrame.iloc.html) does the same thing but over indices. For example, to select the row for `'George'` in our purchases data frame, we just pass the string `'George'` in to `purchases.loc` with bracket notation: "
   ]
  },
  {
   "cell_type": "code",
   "execution_count": 16,
   "metadata": {
    "colab": {},
    "colab_type": "code",
    "id": "5f9YEvjUDlzA",
    "outputId": "ee4ca3dc-7a1a-4712-85b5-11339a79d582"
   },
   "outputs": [
    {
     "data": {
      "text/plain": [
       "country                  US\n",
       "ad_views                 16\n",
       "items_purchased           2\n",
       "items_purch_per_ad    0.125\n",
       "Name: George, dtype: object"
      ]
     },
     "execution_count": 16,
     "metadata": {},
     "output_type": "execute_result"
    }
   ],
   "source": [
    "purchases.loc['George']"
   ]
  },
  {
   "cell_type": "markdown",
   "metadata": {
    "colab_type": "text",
    "id": "dG6g3n-bDlzC"
   },
   "source": [
    "To select the column 'country' we would use:"
   ]
  },
  {
   "cell_type": "code",
   "execution_count": 17,
   "metadata": {
    "colab": {},
    "colab_type": "code",
    "id": "IvSrNNbNDlzD",
    "outputId": "94e42dd6-81de-41b5-a5d6-3463c621b2ae"
   },
   "outputs": [
    {
     "data": {
      "text/plain": [
       "George       US\n",
       "John        CAN\n",
       "Thomas      CAN\n",
       "James        US\n",
       "Andrew      CAN\n",
       "Martin       US\n",
       "William      US\n",
       "Zachary      US\n",
       "Millard     CAN\n",
       "Franklin     US\n",
       "Name: country, dtype: object"
      ]
     },
     "execution_count": 17,
     "metadata": {},
     "output_type": "execute_result"
    }
   ],
   "source": [
    "purchases.loc[:, 'country']"
   ]
  },
  {
   "cell_type": "markdown",
   "metadata": {
    "colab_type": "text",
    "id": "H82Sw8PaDlzG"
   },
   "source": [
    "The <span style=\"background-color: #D8D8D8\">:</span> above works just like it would when slicing a list or string, and selects all rows from start to finish of the data frame.\n",
    "\n",
    "Lastly to select George's country, we'd combine the two like this:"
   ]
  },
  {
   "cell_type": "code",
   "execution_count": 18,
   "metadata": {
    "colab": {},
    "colab_type": "code",
    "id": "g64xn0UdDlzH",
    "outputId": "c0c44e27-822f-4666-e876-10c62f106016"
   },
   "outputs": [
    {
     "data": {
      "text/plain": [
       "'US'"
      ]
     },
     "execution_count": 18,
     "metadata": {},
     "output_type": "execute_result"
    }
   ],
   "source": [
    "purchases.loc['George', 'country']"
   ]
  },
  {
   "cell_type": "markdown",
   "metadata": {
    "colab_type": "text",
    "id": "4Eatv_5lDlzK"
   },
   "source": [
    "### Conditional Selection\n",
    "\n",
    "You can also use <span style=\"background-color: #D8D8D8\">.loc</span> for conditional selection, or selecting all the entries that meet a given criteria. This will use __lambda__, which is a construction that allows for defining anonymous, unnamed functions at runtime. We use the lambda function to create a condition on the row or column.  \n",
    "\n",
    "Let's say we want all the columns for individuals who made more than one purchase. That ends up being a relatively simple line of code."
   ]
  },
  {
   "cell_type": "code",
   "execution_count": 19,
   "metadata": {
    "colab": {},
    "colab_type": "code",
    "id": "pApS5RvMDlzK",
    "outputId": "80d65efd-7611-4c34-873d-57644c21d061"
   },
   "outputs": [
    {
     "data": {
      "text/html": [
       "<div>\n",
       "<style scoped>\n",
       "    .dataframe tbody tr th:only-of-type {\n",
       "        vertical-align: middle;\n",
       "    }\n",
       "\n",
       "    .dataframe tbody tr th {\n",
       "        vertical-align: top;\n",
       "    }\n",
       "\n",
       "    .dataframe thead th {\n",
       "        text-align: right;\n",
       "    }\n",
       "</style>\n",
       "<table border=\"1\" class=\"dataframe\">\n",
       "  <thead>\n",
       "    <tr style=\"text-align: right;\">\n",
       "      <th></th>\n",
       "      <th>country</th>\n",
       "      <th>ad_views</th>\n",
       "      <th>items_purchased</th>\n",
       "      <th>items_purch_per_ad</th>\n",
       "    </tr>\n",
       "  </thead>\n",
       "  <tbody>\n",
       "    <tr>\n",
       "      <th>George</th>\n",
       "      <td>US</td>\n",
       "      <td>16</td>\n",
       "      <td>2</td>\n",
       "      <td>0.125000</td>\n",
       "    </tr>\n",
       "    <tr>\n",
       "      <th>James</th>\n",
       "      <td>US</td>\n",
       "      <td>13</td>\n",
       "      <td>8</td>\n",
       "      <td>0.615385</td>\n",
       "    </tr>\n",
       "    <tr>\n",
       "      <th>Martin</th>\n",
       "      <td>US</td>\n",
       "      <td>19</td>\n",
       "      <td>5</td>\n",
       "      <td>0.263158</td>\n",
       "    </tr>\n",
       "    <tr>\n",
       "      <th>William</th>\n",
       "      <td>US</td>\n",
       "      <td>65</td>\n",
       "      <td>7</td>\n",
       "      <td>0.107692</td>\n",
       "    </tr>\n",
       "    <tr>\n",
       "      <th>Zachary</th>\n",
       "      <td>US</td>\n",
       "      <td>23</td>\n",
       "      <td>3</td>\n",
       "      <td>0.130435</td>\n",
       "    </tr>\n",
       "    <tr>\n",
       "      <th>Franklin</th>\n",
       "      <td>US</td>\n",
       "      <td>77</td>\n",
       "      <td>5</td>\n",
       "      <td>0.064935</td>\n",
       "    </tr>\n",
       "  </tbody>\n",
       "</table>\n",
       "</div>"
      ],
      "text/plain": [
       "         country  ad_views  items_purchased  items_purch_per_ad\n",
       "George        US        16                2            0.125000\n",
       "James         US        13                8            0.615385\n",
       "Martin        US        19                5            0.263158\n",
       "William       US        65                7            0.107692\n",
       "Zachary       US        23                3            0.130435\n",
       "Franklin      US        77                5            0.064935"
      ]
     },
     "execution_count": 19,
     "metadata": {},
     "output_type": "execute_result"
    }
   ],
   "source": [
    "purchases.loc[lambda df: purchases['items_purchased'] > 1, :]"
   ]
  },
  {
   "cell_type": "markdown",
   "metadata": {
    "colab_type": "text",
    "id": "sJ2faBIbDlzL"
   },
   "source": [
    "We are selecting rows, so the lambda is the first item in the brackets. We define the input <span style=\"background-color: #D8D8D8\">df</span> as it takes a data frame. Then we define the condition for which each row will be evaluated on. The <span style=\"background-color: #D8D8D8\">, :</span> is the same slicing syntax and means we want all columns using the same logic as above.\n",
    "\n",
    "There is a simpler way to do this, using boolean logic, and it is also quite common."
   ]
  },
  {
   "cell_type": "code",
   "execution_count": 20,
   "metadata": {
    "colab": {},
    "colab_type": "code",
    "id": "TkTuYkxdDlzM",
    "outputId": "89181adc-5b0a-41a5-ff68-2ddf48a7fa81"
   },
   "outputs": [
    {
     "data": {
      "text/html": [
       "<div>\n",
       "<style scoped>\n",
       "    .dataframe tbody tr th:only-of-type {\n",
       "        vertical-align: middle;\n",
       "    }\n",
       "\n",
       "    .dataframe tbody tr th {\n",
       "        vertical-align: top;\n",
       "    }\n",
       "\n",
       "    .dataframe thead th {\n",
       "        text-align: right;\n",
       "    }\n",
       "</style>\n",
       "<table border=\"1\" class=\"dataframe\">\n",
       "  <thead>\n",
       "    <tr style=\"text-align: right;\">\n",
       "      <th></th>\n",
       "      <th>country</th>\n",
       "      <th>ad_views</th>\n",
       "      <th>items_purchased</th>\n",
       "      <th>items_purch_per_ad</th>\n",
       "    </tr>\n",
       "  </thead>\n",
       "  <tbody>\n",
       "    <tr>\n",
       "      <th>George</th>\n",
       "      <td>US</td>\n",
       "      <td>16</td>\n",
       "      <td>2</td>\n",
       "      <td>0.125000</td>\n",
       "    </tr>\n",
       "    <tr>\n",
       "      <th>James</th>\n",
       "      <td>US</td>\n",
       "      <td>13</td>\n",
       "      <td>8</td>\n",
       "      <td>0.615385</td>\n",
       "    </tr>\n",
       "    <tr>\n",
       "      <th>Martin</th>\n",
       "      <td>US</td>\n",
       "      <td>19</td>\n",
       "      <td>5</td>\n",
       "      <td>0.263158</td>\n",
       "    </tr>\n",
       "    <tr>\n",
       "      <th>William</th>\n",
       "      <td>US</td>\n",
       "      <td>65</td>\n",
       "      <td>7</td>\n",
       "      <td>0.107692</td>\n",
       "    </tr>\n",
       "    <tr>\n",
       "      <th>Zachary</th>\n",
       "      <td>US</td>\n",
       "      <td>23</td>\n",
       "      <td>3</td>\n",
       "      <td>0.130435</td>\n",
       "    </tr>\n",
       "    <tr>\n",
       "      <th>Franklin</th>\n",
       "      <td>US</td>\n",
       "      <td>77</td>\n",
       "      <td>5</td>\n",
       "      <td>0.064935</td>\n",
       "    </tr>\n",
       "  </tbody>\n",
       "</table>\n",
       "</div>"
      ],
      "text/plain": [
       "         country  ad_views  items_purchased  items_purch_per_ad\n",
       "George        US        16                2            0.125000\n",
       "James         US        13                8            0.615385\n",
       "Martin        US        19                5            0.263158\n",
       "William       US        65                7            0.107692\n",
       "Zachary       US        23                3            0.130435\n",
       "Franklin      US        77                5            0.064935"
      ]
     },
     "execution_count": 20,
     "metadata": {},
     "output_type": "execute_result"
    }
   ],
   "source": [
    "purchases[purchases['items_purchased'] > 1]"
   ]
  },
  {
   "cell_type": "markdown",
   "metadata": {
    "colab_type": "text",
    "id": "h5anba9ADlzO"
   },
   "source": [
    "This is a similar logic, but the lack of explicit indexing makes it slightly less robust. The first example with <span style=\"background-color: #D8D8D8\">.loc</span> using explicit indexing is more robust, but this latter [boolean indexing](http://pandas.pydata.org/pandas-docs/stable/indexing.html#boolean-indexing) may be more common and is easily readable. Choose your tradeoffs wisely.\n",
    "\n",
    "### Groups\n",
    "\n",
    "There's one last thing we'll introduce here, and that is grouping and aggregation. You can create groups in your data frame using the [`.groupby()`](http://pandas.pydata.org/pandas-docs/stable/generated/pandas.DataFrame.groupby.html) method and passing in the column name. Let's try it.\n",
    "\n",
    "If we wanted to group by the country of the site user, all we'd have to do is:"
   ]
  },
  {
   "cell_type": "code",
   "execution_count": 21,
   "metadata": {
    "colab": {},
    "colab_type": "code",
    "id": "zkvC_wZLDlzP",
    "outputId": "9b58d20a-9337-497a-8e84-2edf1f5a1f59"
   },
   "outputs": [
    {
     "data": {
      "text/plain": [
       "<pandas.core.groupby.generic.DataFrameGroupBy object at 0x7ff0ae3f24c0>"
      ]
     },
     "execution_count": 21,
     "metadata": {},
     "output_type": "execute_result"
    }
   ],
   "source": [
    "purchases.groupby('country')"
   ]
  },
  {
   "cell_type": "markdown",
   "metadata": {
    "colab_type": "text",
    "id": "iT7tr6igDlzR"
   },
   "source": [
    "When you run the line above, it doesn't return your data any more. It returns a line that references a grouped object, but not the object.\n",
    "\n",
    "That's because if we want it to return something we have to do something on those groups. There are several methods that you can use here. Some are built in like <span style=\"background-color: #D8D8D8\">.sum()</span> or <span style=\"background-color: #D8D8D8\">.count()</span>. For even greater possibilities you can use <span style=\"background-color: #D8D8D8\">.aggregate(numpy_function)</span>. Let's use this to find out which group has more page views and purchases."
   ]
  },
  {
   "cell_type": "code",
   "execution_count": 22,
   "metadata": {
    "colab": {},
    "colab_type": "code",
    "id": "47FTjJ2NDlzR",
    "outputId": "ebd275b8-ae36-40ec-976d-7c094886ea69"
   },
   "outputs": [
    {
     "data": {
      "text/html": [
       "<div>\n",
       "<style scoped>\n",
       "    .dataframe tbody tr th:only-of-type {\n",
       "        vertical-align: middle;\n",
       "    }\n",
       "\n",
       "    .dataframe tbody tr th {\n",
       "        vertical-align: top;\n",
       "    }\n",
       "\n",
       "    .dataframe thead th {\n",
       "        text-align: right;\n",
       "    }\n",
       "</style>\n",
       "<table border=\"1\" class=\"dataframe\">\n",
       "  <thead>\n",
       "    <tr style=\"text-align: right;\">\n",
       "      <th></th>\n",
       "      <th>ad_views</th>\n",
       "      <th>items_purchased</th>\n",
       "      <th>items_purch_per_ad</th>\n",
       "    </tr>\n",
       "    <tr>\n",
       "      <th>country</th>\n",
       "      <th></th>\n",
       "      <th></th>\n",
       "      <th></th>\n",
       "    </tr>\n",
       "  </thead>\n",
       "  <tbody>\n",
       "    <tr>\n",
       "      <th>CAN</th>\n",
       "      <td>38.25</td>\n",
       "      <td>0.25</td>\n",
       "      <td>0.005952</td>\n",
       "    </tr>\n",
       "    <tr>\n",
       "      <th>US</th>\n",
       "      <td>35.50</td>\n",
       "      <td>5.00</td>\n",
       "      <td>0.217767</td>\n",
       "    </tr>\n",
       "  </tbody>\n",
       "</table>\n",
       "</div>"
      ],
      "text/plain": [
       "         ad_views  items_purchased  items_purch_per_ad\n",
       "country                                               \n",
       "CAN         38.25             0.25            0.005952\n",
       "US          35.50             5.00            0.217767"
      ]
     },
     "execution_count": 22,
     "metadata": {},
     "output_type": "execute_result"
    }
   ],
   "source": [
    "purchases.groupby('country').aggregate(np.mean)\n",
    "\n",
    "# Don't want to take the mean of all columns? Try this:\n",
    "# purchases.groupby('country')['column_name'].mean()"
   ]
  },
  {
   "cell_type": "markdown",
   "metadata": {
    "colab_type": "text",
    "id": "Ds8Ue_v_DlzS"
   },
   "source": [
    "Now we can see the mean of each column. Seems like Canadian visitors view slightly more ads per person but purchase far fewer items...\n",
    "\n",
    "These are the fundamentals of selecting data inside a data frame. For a deep dive, see the [pandas documentation on Indexing and Selecting Data](http://pandas.pydata.org/pandas-docs/stable/indexing.html#indexing).\n"
   ]
  },
  {
   "cell_type": "markdown",
   "metadata": {
    "colab_type": "text",
    "id": "sorsbuisDlzS"
   },
   "source": [
    "## Working with Files\n",
    "\n",
    "So far we built Pandas data frames by manually typing or pasting in text. Doing that with actual data sets would be tedious or impossible, so you'll almost always be loading your data into Pandas from files (like CSV files), from the web using APIs, or from databases and other large data stores.\n",
    "\n",
    "Here, we'll show you how to load CSV files.\n",
    "\n",
    "### Opening CSV files with Pandas\n",
    "\n",
    "Here's a sample CSV file called [addresses](https://people.sc.fsu.edu/~jburkardt/data/csv/addresses.csv). Save a copy of this file by right-clicking in your browser and choosing \"Save As\". Name it <span style=\"background-color: #D8D8D8\">addresses.csv</span> and place it in the same directory as your Python files.\n",
    "\n",
    "The basics of loading a CSV into Pandas are simple. You can load the <span style=\"background-color: #D8D8D8\">addresses.csv</span> file you just saved with this one-liner"
   ]
  },
  {
   "cell_type": "code",
   "execution_count": 23,
   "metadata": {
    "colab": {},
    "colab_type": "code",
    "id": "DgSnqoYKDlzT",
    "outputId": "0fd0fefa-801a-45b5-ee8a-b30bd1077226",
    "scrolled": true
   },
   "outputs": [
    {
     "name": "stdout",
     "output_type": "stream",
     "text": [
      "                    John       Doe                 120 jefferson st.  \\\n",
      "0                   Jack  McGinnis                      220 hobo Av.   \n",
      "1          John \"Da Man\"    Repici                 120 Jefferson St.   \n",
      "2                Stephen     Tyler  7452 Terrace \"At the Plaza\" road   \n",
      "3                    NaN  Blankman                               NaN   \n",
      "4  Joan \"the bone\", Anne       Jet               9th, at Terrace plc   \n",
      "\n",
      "     Riverside   NJ   08075  \n",
      "0        Phila   PA    9119  \n",
      "1    Riverside   NJ    8075  \n",
      "2     SomeTown   SD   91234  \n",
      "3     SomeTown   SD     298  \n",
      "4  Desert City   CO     123  \n"
     ]
    }
   ],
   "source": [
    "df = pd.read_csv('addresses.csv')\n",
    "print(df.head())"
   ]
  },
  {
   "cell_type": "markdown",
   "metadata": {
    "colab_type": "text",
    "id": "gKLb5YEJDlzU"
   },
   "source": [
    "The Pandas <span style=\"background-color: #D8D8D8\">read_csv()</span> method takes a string representing the path to the file you want to read and returns a data frame object. In the example above the CSV file we're working with is in the same directory as the script we're running. If you saved your file elsewhere or with a different name you'll have a different path than <span style=\"background-color: #D8D8D8\">addresses.csv</span>   \n",
    "\n",
    "Try loading <span style=\"background-color: #D8D8D8\">addresses.csv</span>in your own Jupyter notebook now.\n",
    "\n",
    "The only required argument <span style=\"background-color: #D8D8D8\">read_csv()</span> is the file path, but there are dozens of optional keyword arguments available that are useful in different contexts. You can read about those in the [documentation](http://pandas.pydata.org/pandas-docs/stable/user_guide/io.html)."
   ]
  },
  {
   "cell_type": "code",
   "execution_count": null,
   "metadata": {},
   "outputs": [],
   "source": []
  }
 ],
 "metadata": {
  "colab": {
   "name": "Week1_Part2.ipynb",
   "provenance": []
  },
  "kernelspec": {
   "display_name": "Python 3",
   "language": "python",
   "name": "python3"
  },
  "language_info": {
   "codemirror_mode": {
    "name": "ipython",
    "version": 3
   },
   "file_extension": ".py",
   "mimetype": "text/x-python",
   "name": "python",
   "nbconvert_exporter": "python",
   "pygments_lexer": "ipython3",
   "version": "3.8.5"
  },
  "toc": {
   "base_numbering": 1,
   "nav_menu": {},
   "number_sections": true,
   "sideBar": true,
   "skip_h1_title": true,
   "title_cell": "Table of Contents",
   "title_sidebar": "Contents",
   "toc_cell": false,
   "toc_position": {},
   "toc_section_display": true,
   "toc_window_display": true
  }
 },
 "nbformat": 4,
 "nbformat_minor": 1
}
